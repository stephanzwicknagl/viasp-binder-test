{
 "cells": [
  {
   "cell_type": "markdown",
   "metadata": {},
   "source": [
    "# <center>Introduction to viASP</center>\n",
    "\n",
    "\n",
    "viASP is a visualization and interactive explanation tool for ASP programs and their stable models.\n",
    "\n",
    "viASP allows you to explore the visualization in a variety of ways:\n",
    "\n",
    "* Visualize the derivation of stable models step-by-step in a tree view\n",
    "* Inspect iterations of recursive rules individually\n",
    "* Show reasons for the derivation of individual symbols with arrows\n",
    "* Relax the constraints of unsatisfiable programs\n",
    "* Inspect single models\n",
    "* Add `#show` statements on the fly\n",
    "* Search models, signatures and rules.\n",
    "\n",
    "![Example visualization](../docs/img/sprinkler.png)\n",
    "\n",
    "To get started, the startup module starts the viASP server:"
   ]
  },
  {
   "cell_type": "code",
   "execution_count": null,
   "metadata": {},
   "outputs": [],
   "source": [
    "from viasp.server import startup\n",
    "app = startup.run()"
   ]
  },
  {
   "cell_type": "markdown",
   "metadata": {},
   "source": [
    "Defining an encoding."
   ]
  },
  {
   "cell_type": "code",
   "execution_count": null,
   "metadata": {},
   "outputs": [],
   "source": [
    "%%file sprinkler.lp\n",
    "1{rain;sprinkler}1.\n",
    "wet :- rain.\n",
    "wet :- sprinkler."
   ]
  },
  {
   "cell_type": "markdown",
   "metadata": {},
   "source": [
    "# The ``Control`` proxy\n",
    "\n",
    "To load a visualization, viASP needs the ASP program and its stable models.\n",
    "\n",
    "viASP provides a proxy object for clingo `Control`. It connects the clingo solver to the viASP server to relay the data."
   ]
  },
  {
   "cell_type": "code",
   "execution_count": null,
   "metadata": {},
   "outputs": [],
   "source": [
    "from viasp import Control\n",
    "\n",
    "options = ['0']\n",
    "programs = ['sprinkler.lp']\n",
    "ctl = Control(options)\n",
    "for path in programs:\n",
    "    ctl.load(path)\n",
    "ctl.ground([(\"base\", [])])\n",
    "\n",
    "with ctl.solve(yield_=True) as handle:\n",
    "    for m in handle:\n",
    "        print(\"Answer:\\n{}\".format(m))\n",
    "        ctl.viasp.mark(m) # mark the answer set for visualization\n",
    "    print(handle.get())\n",
    "ctl.viasp.show() # push the visualization to the browser\n",
    "app.run() # run the Dash app"
   ]
  },
  {
   "cell_type": "code",
   "execution_count": null,
   "metadata": {},
   "outputs": [],
   "source": [
    "from viasp.server import startup\n",
    "app = startup.run()"
   ]
  },
  {
   "cell_type": "code",
   "execution_count": null,
   "metadata": {},
   "outputs": [],
   "source": [
    "%%file hamiltonian.lp\n",
    "\n",
    "node(1..4). start(1).\n",
    "edge(1,2). edge(2,3). edge(2,4). edge(3,1).\n",
    "edge(3,4). edge(4,1). edge(4,3).\n",
    "\n",
    "{ hc(V,U) } :- edge(V,U).\n",
    "reached(V) :- hc(S,V), start(S).\n",
    "reached(V) :- reached(U), hc(U,V).\n",
    ":- node(V), not reached(V).\n",
    ":- hc(V,U), hc(V,W), U!=W.\n",
    "%:- hc(U,V), hc(W,V), U!=W.\n",
    ":- hc(V,U), hc(W,V), U!=W. % <- uncomment to make the program inconsistent, comment the line above\n"
   ]
  },
  {
   "cell_type": "markdown",
   "metadata": {},
   "source": [
    "# Using a clingo `Application`"
   ]
  },
  {
   "cell_type": "code",
   "execution_count": null,
   "metadata": {},
   "outputs": [],
   "source": [
    "from clingo.application import clingo_main, Application\n",
    "from viasp import Control\n",
    "\n",
    "class App(Application):\n",
    "\n",
    "    def main(self, ctl, files):\n",
    "        ctl = Control(control=ctl, files=files)\n",
    "\n",
    "        for path in files:\n",
    "            ctl.load(path)\n",
    "        ctl.ground([(\"base\", [])])\n",
    "        with ctl.solve(yield_=True) as handle:\n",
    "            for m in handle:\n",
    "                ctl.viasp.mark(m)\n",
    "            print(handle.get())\n",
    "            # uncomment these lines to visualize the program with inconsistencies\n",
    "            if handle.get().unsatisfiable:\n",
    "                ctl = ctl.viasp.relax_constraints()\n",
    "        ctl.viasp.show()\n",
    "\n",
    "\n",
    "if __name__ == \"__main__\":\n",
    "    clingo_main(App(), ['0', 'hamiltonian.lp'])\n",
    "    app.run()"
   ]
  },
  {
   "cell_type": "markdown",
   "metadata": {},
   "source": [
    "# 3. The adaptable way: Using the viASP ``api`` independently of Clingo\n",
    "\n",
    "If you already have a program and its stable models, you can use the viASP python ``api``. You can directly mark the stable models without solving the program again. "
   ]
  },
  {
   "cell_type": "code",
   "execution_count": null,
   "metadata": {},
   "outputs": [],
   "source": [
    "from viasp.server import startup\n",
    "app = startup.run()"
   ]
  },
  {
   "cell_type": "code",
   "execution_count": null,
   "metadata": {},
   "outputs": [],
   "source": [
    "import viasp\n",
    "\n",
    "viasp.add_program_file('hamiltonian.lp')\n",
    "viasp.mark_from_string('node(1).node(2).node(3).node(4).edge(1,2).edge(2,3).edge(2,4).edge(3,1).edge(3,4).edge(4,1).edge(4,3).start(1).hc(1,2).hc(2,4).hc(3,1).hc(4,3).reached(2).reached(3).reached(4).reached(1).')\n",
    "viasp.mark_from_string('node(1).node(2).node(3).node(4).edge(1,2).edge(2,3).edge(2,4).edge(3,1).edge(3,4).edge(4,1).edge(4,3).start(1).hc(1,2).hc(2,3).hc(3,4).hc(4,1).reached(2).reached(3).reached(4).reached(1).')\n",
    "viasp.show()\n",
    "viasp.clingraph(viz_encoding='viz_hamiltonian.lp', graphviz_type=\"digraph\")\n",
    "app.run()\n"
   ]
  },
  {
   "cell_type": "markdown",
   "metadata": {},
   "source": [
    "Debugging information is available in the log file `viasp.log`."
   ]
  }
 ],
 "metadata": {
  "kernelspec": {
   "display_name": "Python 3 (ipykernel)",
   "language": "python",
   "name": "python3"
  },
  "language_info": {
   "codemirror_mode": {
    "name": "ipython",
    "version": 3
   },
   "file_extension": ".py",
   "mimetype": "text/x-python",
   "name": "python",
   "nbconvert_exporter": "python",
   "pygments_lexer": "ipython3",
   "version": "3.10.4"
  },
  "varInspector": {
   "cols": {
    "lenName": 16,
    "lenType": 16,
    "lenVar": 40
   },
   "kernels_config": {
    "python": {
     "delete_cmd_postfix": "",
     "delete_cmd_prefix": "del ",
     "library": "var_list.py",
     "varRefreshCmd": "print(var_dic_list())"
    },
    "r": {
     "delete_cmd_postfix": ") ",
     "delete_cmd_prefix": "rm(",
     "library": "var_list.r",
     "varRefreshCmd": "cat(var_dic_list()) "
    }
   },
   "types_to_exclude": [
    "module",
    "function",
    "builtin_function_or_method",
    "instance",
    "_Feature"
   ],
   "window_display": false
  },
  "vscode": {
   "interpreter": {
    "hash": "1785f8d9ecd06a5253af1fb2e0a107be454014433d34b629cfe3c91c9b2ab96a"
   }
  }
 },
 "nbformat": 4,
 "nbformat_minor": 2
}
